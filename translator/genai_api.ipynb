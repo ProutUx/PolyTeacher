{
 "cells": [
  {
   "cell_type": "code",
   "execution_count": 1,
   "id": "be8ec5d0",
   "metadata": {},
   "outputs": [
    {
     "name": "stderr",
     "output_type": "stream",
     "text": [
      "c:\\Users\\elias\\AppData\\Local\\Programs\\Python\\Python312\\Lib\\site-packages\\tqdm\\auto.py:21: TqdmWarning: IProgress not found. Please update jupyter and ipywidgets. See https://ipywidgets.readthedocs.io/en/stable/user_install.html\n",
      "  from .autonotebook import tqdm as notebook_tqdm\n"
     ]
    }
   ],
   "source": [
    "import google.generativeai as genai\n",
    "import os"
   ]
  },
  {
   "cell_type": "code",
   "execution_count": null,
   "id": "1f575720",
   "metadata": {
    "lines_to_next_cell": 1
   },
   "outputs": [],
   "source": [
    "api_key = \"CLE_GOOGLE_API_A_INSERER\""
   ]
  },
  {
   "cell_type": "code",
   "execution_count": 3,
   "id": "05b9f98c",
   "metadata": {
    "lines_to_next_cell": 1
   },
   "outputs": [],
   "source": [
    "def traduction(source_lang, target_lang, phrase):\n",
    "\n",
    "    prompt = f\"\"\"\n",
    "    Traduis \"{phrase}\" de {source_lang} en {target_lang}. \n",
    "    La réponse ne doit contenir que la traduction.\n",
    "    \"\"\"\n",
    "    genai.configure(api_key=api_key)\n",
    "    model = genai.GenerativeModel(\"gemini-1.5-flash\")\n",
    "    response = model.generate_content(prompt)\n",
    "    return response.text"
   ]
  },
  {
   "cell_type": "code",
   "execution_count": 4,
   "id": "f47a89b0",
   "metadata": {},
   "outputs": [],
   "source": [
    "source_lang = \"fr\"\n",
    "target_lang = \"es\"\n",
    "phrase = \"J'aime bien les grandes vacances d'été\""
   ]
  },
  {
   "cell_type": "code",
   "execution_count": 5,
   "id": "ff6e42d4",
   "metadata": {},
   "outputs": [
    {
     "name": "stdout",
     "output_type": "stream",
     "text": [
      "Traduction : Me gustan mucho las vacaciones de verano.\n",
      "\n"
     ]
    }
   ],
   "source": [
    "translation = traduction(source_lang, target_lang, phrase)\n",
    "print(\"Traduction :\", translation)"
   ]
  }
 ],
 "metadata": {
  "jupytext": {
   "cell_metadata_filter": "-all",
   "main_language": "python",
   "notebook_metadata_filter": "-all"
  },
  "kernelspec": {
   "display_name": "Python 3",
   "language": "python",
   "name": "python3"
  },
  "language_info": {
   "codemirror_mode": {
    "name": "ipython",
    "version": 3
   },
   "file_extension": ".py",
   "mimetype": "text/x-python",
   "name": "python",
   "nbconvert_exporter": "python",
   "pygments_lexer": "ipython3",
   "version": "3.12.1"
  }
 },
 "nbformat": 4,
 "nbformat_minor": 5
}
